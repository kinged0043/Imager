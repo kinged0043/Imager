{
 "cells": [
  {
   "cell_type": "markdown",
   "metadata": {},
   "source": [
    "#### This file will be used to conduct the image model experiment.\n",
    "the model will be done with the keras and tensorflow libraries and made to detect and distinguish between different types of animals\n",
    "\n",
    "--steps:\n",
    "* gather the data from a [source]() and store it in the repo\n",
    "* clean the data if dirty\n",
    "* preprocess the data and store in an array or dataframe\n",
    "* create sequential model and train the data\n",
    "* evaluate the model and tune hyperparameters\n",
    "* store the model as imager_model.h5 or imager_model.pk"
   ]
  },
  {
   "cell_type": "code",
   "execution_count": 1,
   "metadata": {},
   "outputs": [],
   "source": [
    "from keras.models import Sequential \n",
    "from keras.layers import Dense, Conv2D, Flatten, MaxPool2D, Dropout\n",
    "from keras.preprocessing.image import load_img, img_to_array, smart_resize\n",
    "from skimage import transform, color\n",
    "\n",
    "import os\n",
    "import numpy as np\n",
    "import matplotlib.pyplot as plt\n",
    "import tensorflow as tf\n"
   ]
  },
  {
   "cell_type": "markdown",
   "metadata": {},
   "source": [
    "reading and preprocessing image files"
   ]
  },
  {
   "cell_type": "code",
   "execution_count": null,
   "metadata": {},
   "outputs": [],
   "source": [
    "path: str  = \"\" # location of the image files\n",
    "\n",
    "folder = [] # where to store the image files\n",
    "\n",
    "def image_transforms(input: list[np.ndarray]) -> np.ndarray:\n",
    "    \"\"\"\n",
    "    function that performs skimage transforms on inout image arrays\n",
    "    \"\"\"\n",
    "    image = transform.rescale()\n",
    "    image = transform.resize()\n",
    "    image = color.rgb2gray()\n",
    "    return image\n",
    "\n",
    "for x in path:\n",
    "    os.chdir(path=path)\n",
    "    images = plt.imread()\n",
    "    images = tf.convert_to_tensor(images)\n",
    "    images = image_transforms(images)\n",
    "    folder.append(images)\n",
    "# OR\n",
    "for images in path:\n",
    "    images = load_img(images)\n",
    "    images = img_to_array(images)\n",
    "    images = image_transforms(images)\n",
    "    folder.append(smart_resize(images))\n"
   ]
  },
  {
   "cell_type": "markdown",
   "metadata": {},
   "source": [
    "saving folder as dataframe/csv and ndarray/tensor"
   ]
  },
  {
   "cell_type": "code",
   "execution_count": null,
   "metadata": {},
   "outputs": [],
   "source": [
    "def imager(input: list[np.ndarray], to_tensor: bool) -> list[np.ndarray]:\n",
    "    image = [image_transforms(tf.convert_to_tensor(plt.imread(x))) for x in os.chdir(path)]\n",
    "    if to_tensor == True:\n",
    "        image = [tf.convert_to_tensor(image) for images in image]\n",
    "    return image"
   ]
  },
  {
   "cell_type": "markdown",
   "metadata": {},
   "source": [
    "model training and evaluation"
   ]
  },
  {
   "cell_type": "code",
   "execution_count": 3,
   "metadata": {},
   "outputs": [],
   "source": [
    "model = Sequential()\n",
    "\n",
    "item = []\n",
    "for x in item:\n",
    "    model.add(Conv2D())\n",
    "    model.add(MaxPool2D())\n",
    "    model.add(Flatten())\n",
    "    model.add(Dense())\n",
    "    model.add(Dropout())\n",
    "    model.add(Dense())\n",
    "\n",
    "    model.compile()\n",
    "    model.fit()\n",
    "    model.evaluate()\n",
    "    "
   ]
  },
  {
   "cell_type": "code",
   "execution_count": null,
   "metadata": {},
   "outputs": [],
   "source": []
  },
  {
   "cell_type": "markdown",
   "metadata": {},
   "source": [
    "other suggestions"
   ]
  }
 ],
 "metadata": {
  "kernelspec": {
   "display_name": "Python 3",
   "language": "python",
   "name": "python3"
  },
  "language_info": {
   "codemirror_mode": {
    "name": "ipython",
    "version": 3
   },
   "file_extension": ".py",
   "mimetype": "text/x-python",
   "name": "python",
   "nbconvert_exporter": "python",
   "pygments_lexer": "ipython3",
   "version": "3.10.12"
  }
 },
 "nbformat": 4,
 "nbformat_minor": 2
}
